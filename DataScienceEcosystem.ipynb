{
  "metadata": {
    "kernelspec": {
      "name": "python",
      "display_name": "Python (Pyodide)",
      "language": "python"
    },
    "language_info": {
      "codemirror_mode": {
        "name": "python",
        "version": 3
      },
      "file_extension": ".py",
      "mimetype": "text/x-python",
      "name": "python",
      "nbconvert_exporter": "python",
      "pygments_lexer": "ipython3",
      "version": "3.8"
    }
  },
  "nbformat_minor": 4,
  "nbformat": 4,
  "cells": [
    {
      "cell_type": "markdown",
      "source": "# Data Science tools and ecosystems",
      "metadata": {},
      "attachments": {}
    },
    {
      "cell_type": "markdown",
      "source": "### In this notebook, Data Science Tools and Ecosystem are summarized.",
      "metadata": {},
      "attachments": {}
    },
    {
      "cell_type": "markdown",
      "source": "## **Objectives:**\n\n* Popular languages\n* Common libraries\n* Common tools --m 3\r\nm 3\r\n\r\n",
      "metadata": {}
    },
    {
      "cell_type": "markdown",
      "source": "### Some of the popular languages that Data Scientists use are:",
      "metadata": {},
      "attachments": {}
    },
    {
      "cell_type": "markdown",
      "source": "#### 1. Python\n#### 2. Java\n#### 3. Scala\n#### 4. Julia",
      "metadata": {},
      "attachments": {}
    },
    {
      "cell_type": "markdown",
      "source": "### Some of the commonly used libraries used by Data Scientists include:",
      "metadata": {},
      "attachments": {}
    },
    {
      "cell_type": "markdown",
      "source": "#### 1. Numpy\n#### 2. Pandas\n#### 3. TensorFlow",
      "metadata": {},
      "attachments": {}
    },
    {
      "cell_type": "markdown",
      "source": "# Data Science tools\n\n| Data Science Tools |\n|----------|\n| JupiterNotebook | \n| GoogleColab | \n| VisualStudio | \n",
      "metadata": {},
      "attachments": {}
    },
    {
      "cell_type": "markdown",
      "source": "### Below are a few examples of evaluating arithmetic expressions in Python.",
      "metadata": {},
      "attachments": {}
    },
    {
      "cell_type": "code",
      "source": "(3*4)+5 \n#This a simple arithmetic expression to mutiply then add integers",
      "metadata": {
        "vscode": {
          "languageId": "plaintext"
        },
        "trusted": true
      },
      "outputs": [
        {
          "execution_count": 4,
          "output_type": "execute_result",
          "data": {
            "text/plain": "17"
          },
          "metadata": {}
        }
      ],
      "execution_count": 4
    },
    {
      "cell_type": "code",
      "source": "minutes = 200\none_hour = 60\nhours = minutes / one_hour\nprint(f\"{minutes} minutes is equal to {hours} hours.\")\n# This will convert 200 minutes to hours by diving by 60",
      "metadata": {
        "trusted": true
      },
      "outputs": [
        {
          "name": "stdout",
          "text": "200 minutes is equal to 3.3333333333333335 hours.\n",
          "output_type": "stream"
        }
      ],
      "execution_count": 6
    },
    {
      "cell_type": "markdown",
      "source": "## AUTHOR \n*BABAEV SHOKHRUKH*",
      "metadata": {}
    }
  ]
}